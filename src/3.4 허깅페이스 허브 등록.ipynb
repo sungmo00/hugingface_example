{
  "cells": [
    {
      "cell_type": "markdown",
      "metadata": {
        "id": "8JjdEGrVJV7O"
      },
      "source": [
        "# Google Drive Mount"
      ]
    },
    {
      "cell_type": "code",
      "execution_count": 1,
      "metadata": {
        "colab": {
          "base_uri": "https://localhost:8080/"
        },
        "id": "cvw-QXmOJVgZ",
        "outputId": "c7be3bdc-0111-427f-ddaf-18d9003ddf86"
      },
      "outputs": [
        {
          "output_type": "stream",
          "name": "stdout",
          "text": [
            "Mounted at /content/drive\n"
          ]
        }
      ],
      "source": [
        "from google.colab import drive\n",
        "drive.mount(\"/content/drive\")"
      ]
    },
    {
      "cell_type": "markdown",
      "metadata": {
        "id": "647Bcw6sQgpK"
      },
      "source": [
        "# Install"
      ]
    },
    {
      "cell_type": "code",
      "execution_count": 2,
      "metadata": {
        "colab": {
          "base_uri": "https://localhost:8080/"
        },
        "id": "ePaaL7igEPgy",
        "outputId": "91384100-1086-4f99-bce0-28211f771394"
      },
      "outputs": [
        {
          "output_type": "stream",
          "name": "stdout",
          "text": [
            "Collecting transformers==4.41.2\n",
            "  Downloading transformers-4.41.2-py3-none-any.whl.metadata (43 kB)\n",
            "\u001b[?25l     \u001b[90m━━━━━━━━━━━━━━━━━━━━━━━━━━━━━━━━━━━━━━━━\u001b[0m \u001b[32m0.0/43.8 kB\u001b[0m \u001b[31m?\u001b[0m eta \u001b[36m-:--:--\u001b[0m\r\u001b[2K     \u001b[90m━━━━━━━━━━━━━━━━━━━━━━━━━━━━━━━━━━━━━━━━\u001b[0m \u001b[32m43.8/43.8 kB\u001b[0m \u001b[31m2.8 MB/s\u001b[0m eta \u001b[36m0:00:00\u001b[0m\n",
            "\u001b[?25hRequirement already satisfied: filelock in /usr/local/lib/python3.10/dist-packages (from transformers==4.41.2) (3.16.1)\n",
            "Requirement already satisfied: huggingface-hub<1.0,>=0.23.0 in /usr/local/lib/python3.10/dist-packages (from transformers==4.41.2) (0.27.0)\n",
            "Requirement already satisfied: numpy>=1.17 in /usr/local/lib/python3.10/dist-packages (from transformers==4.41.2) (1.26.4)\n",
            "Requirement already satisfied: packaging>=20.0 in /usr/local/lib/python3.10/dist-packages (from transformers==4.41.2) (24.2)\n",
            "Requirement already satisfied: pyyaml>=5.1 in /usr/local/lib/python3.10/dist-packages (from transformers==4.41.2) (6.0.2)\n",
            "Requirement already satisfied: regex!=2019.12.17 in /usr/local/lib/python3.10/dist-packages (from transformers==4.41.2) (2024.11.6)\n",
            "Requirement already satisfied: requests in /usr/local/lib/python3.10/dist-packages (from transformers==4.41.2) (2.32.3)\n",
            "Collecting tokenizers<0.20,>=0.19 (from transformers==4.41.2)\n",
            "  Downloading tokenizers-0.19.1-cp310-cp310-manylinux_2_17_x86_64.manylinux2014_x86_64.whl.metadata (6.7 kB)\n",
            "Requirement already satisfied: safetensors>=0.4.1 in /usr/local/lib/python3.10/dist-packages (from transformers==4.41.2) (0.4.5)\n",
            "Requirement already satisfied: tqdm>=4.27 in /usr/local/lib/python3.10/dist-packages (from transformers==4.41.2) (4.67.1)\n",
            "Requirement already satisfied: fsspec>=2023.5.0 in /usr/local/lib/python3.10/dist-packages (from huggingface-hub<1.0,>=0.23.0->transformers==4.41.2) (2024.10.0)\n",
            "Requirement already satisfied: typing-extensions>=3.7.4.3 in /usr/local/lib/python3.10/dist-packages (from huggingface-hub<1.0,>=0.23.0->transformers==4.41.2) (4.12.2)\n",
            "Requirement already satisfied: charset-normalizer<4,>=2 in /usr/local/lib/python3.10/dist-packages (from requests->transformers==4.41.2) (3.4.0)\n",
            "Requirement already satisfied: idna<4,>=2.5 in /usr/local/lib/python3.10/dist-packages (from requests->transformers==4.41.2) (3.10)\n",
            "Requirement already satisfied: urllib3<3,>=1.21.1 in /usr/local/lib/python3.10/dist-packages (from requests->transformers==4.41.2) (2.2.3)\n",
            "Requirement already satisfied: certifi>=2017.4.17 in /usr/local/lib/python3.10/dist-packages (from requests->transformers==4.41.2) (2024.12.14)\n",
            "Downloading transformers-4.41.2-py3-none-any.whl (9.1 MB)\n",
            "\u001b[2K   \u001b[90m━━━━━━━━━━━━━━━━━━━━━━━━━━━━━━━━━━━━━━━━\u001b[0m \u001b[32m9.1/9.1 MB\u001b[0m \u001b[31m53.7 MB/s\u001b[0m eta \u001b[36m0:00:00\u001b[0m\n",
            "\u001b[?25hDownloading tokenizers-0.19.1-cp310-cp310-manylinux_2_17_x86_64.manylinux2014_x86_64.whl (3.6 MB)\n",
            "\u001b[2K   \u001b[90m━━━━━━━━━━━━━━━━━━━━━━━━━━━━━━━━━━━━━━━━\u001b[0m \u001b[32m3.6/3.6 MB\u001b[0m \u001b[31m42.2 MB/s\u001b[0m eta \u001b[36m0:00:00\u001b[0m\n",
            "\u001b[?25hInstalling collected packages: tokenizers, transformers\n",
            "  Attempting uninstall: tokenizers\n",
            "    Found existing installation: tokenizers 0.21.0\n",
            "    Uninstalling tokenizers-0.21.0:\n",
            "      Successfully uninstalled tokenizers-0.21.0\n",
            "  Attempting uninstall: transformers\n",
            "    Found existing installation: transformers 4.47.1\n",
            "    Uninstalling transformers-4.47.1:\n",
            "      Successfully uninstalled transformers-4.47.1\n",
            "Successfully installed tokenizers-0.19.1 transformers-4.41.2\n"
          ]
        }
      ],
      "source": [
        "!pip install transformers==4.41.2"
      ]
    },
    {
      "cell_type": "markdown",
      "metadata": {
        "id": "DYI9T54rzF9r"
      },
      "source": [
        "# 3.4.1 push_to_hub()"
      ]
    },
    {
      "cell_type": "code",
      "execution_count": null,
      "metadata": {
        "id": "KObJpq5GpX2S"
      },
      "outputs": [],
      "source": [
        "from transformers import AutoTokenizer, AutoModelForSequenceClassification\n",
        "\n",
        "model_name = \"/content/drive/MyDrive/trained_model\"\n",
        "tokenizer = AutoTokenizer.from_pretrained(model_name)\n",
        "model = AutoModelForSequenceClassification.from_pretrained(model_name)\n",
        "\n",
        "REPO_NAME = \"<사용자명>/my-bert-fine-tuned\"\n",
        "AUTH_TOKEN = \"hf_sN...\""
      ]
    },
    {
      "cell_type": "code",
      "execution_count": null,
      "metadata": {
        "id": "0_446BtFmAFa"
      },
      "outputs": [],
      "source": [
        "model.push_to_hub(\n",
        "    REPO_NAME,\n",
        "    use_temp_dir=True,\n",
        "    use_auth_token=AUTH_TOKEN\n",
        ")\n",
        "tokenizer.push_to_hub(\n",
        "    REPO_NAME,\n",
        "    use_temp_dir=True,\n",
        "    use_auth_token=AUTH_TOKEN\n",
        ")"
      ]
    },
    {
      "cell_type": "markdown",
      "metadata": {
        "id": "rde6adug_7n6"
      },
      "source": [
        "### 허브 등록 모델 불러오기"
      ]
    },
    {
      "cell_type": "code",
      "execution_count": null,
      "metadata": {
        "id": "YbxTQnHX_-K_"
      },
      "outputs": [],
      "source": [
        "from transformers import AutoTokenizer, AutoModelForSequenceClassification\n",
        "\n",
        "model_name = \"<사용자명>/my-bert-fine-tuned\"\n",
        "tokenizer = AutoTokenizer.from_pretrained(model_name)\n",
        "model = AutoModelForSequenceClassification.from_pretrained(model_name)\n",
        "\n",
        "print(tokenizer)\n",
        "print(model)"
      ]
    },
    {
      "cell_type": "markdown",
      "metadata": {
        "id": "-eRMGTSDl0_j"
      },
      "source": [
        "# 3.4.2 CLI"
      ]
    },
    {
      "cell_type": "code",
      "execution_count": 3,
      "metadata": {
        "id": "kTj9NEB7Gniy"
      },
      "outputs": [],
      "source": [
        "from transformers import AutoTokenizer, AutoModelForSequenceClassification\n",
        "\n",
        "model_name = \"/content/drive/MyDrive/trained_model\"\n",
        "tokenizer = AutoTokenizer.from_pretrained(model_name)\n",
        "model = AutoModelForSequenceClassification.from_pretrained(model_name)"
      ]
    },
    {
      "cell_type": "code",
      "execution_count": 4,
      "metadata": {
        "colab": {
          "base_uri": "https://localhost:8080/"
        },
        "id": "KcXARVKTENEM",
        "outputId": "45334736-f7ad-4632-9655-3f9fa9b331a4"
      },
      "outputs": [
        {
          "output_type": "stream",
          "name": "stdout",
          "text": [
            "Git LFS initialized.\n",
            "filter.lfs.required=true\n",
            "filter.lfs.clean=git-lfs clean -- %f\n",
            "filter.lfs.smudge=git-lfs smudge -- %f\n",
            "filter.lfs.process=git-lfs filter-process\n",
            "filter.lfs.required=true\n",
            "filter.lfs.clean=git-lfs clean -- %f\n",
            "filter.lfs.smudge=git-lfs smudge -- %f\n",
            "filter.lfs.process=git-lfs filter-process\n",
            "user.email=hipster4020@gmail.com\n",
            "user.name=Seonghwan\n"
          ]
        }
      ],
      "source": [
        "!git lfs install\n",
        "!git config --global user.email {\"<email>\"}\n",
        "!git config --global user.name {\"<계정명>\"}\n",
        "!git config --list"
      ]
    },
    {
      "cell_type": "code",
      "execution_count": 5,
      "metadata": {
        "colab": {
          "base_uri": "https://localhost:8080/"
        },
        "id": "-_oHuIAaEV-k",
        "outputId": "f7d9f681-01f6-4319-ab2e-75c7b9bd3d7a"
      },
      "outputs": [
        {
          "output_type": "stream",
          "name": "stdout",
          "text": [
            "\n",
            "    _|    _|  _|    _|    _|_|_|    _|_|_|  _|_|_|  _|      _|    _|_|_|      _|_|_|_|    _|_|      _|_|_|  _|_|_|_|\n",
            "    _|    _|  _|    _|  _|        _|          _|    _|_|    _|  _|            _|        _|    _|  _|        _|\n",
            "    _|_|_|_|  _|    _|  _|  _|_|  _|  _|_|    _|    _|  _|  _|  _|  _|_|      _|_|_|    _|_|_|_|  _|        _|_|_|\n",
            "    _|    _|  _|    _|  _|    _|  _|    _|    _|    _|    _|_|  _|    _|      _|        _|    _|  _|        _|\n",
            "    _|    _|    _|_|      _|_|_|    _|_|_|  _|_|_|  _|      _|    _|_|_|      _|        _|    _|    _|_|_|  _|_|_|_|\n",
            "\n",
            "    To log in, `huggingface_hub` requires a token generated from https://huggingface.co/settings/tokens .\n",
            "Enter your token (input will not be visible): \n",
            "Add token as git credential? (Y/n) Y\n",
            "Token is valid (permission: write).\n",
            "The token `token2` has been saved to /root/.cache/huggingface/stored_tokens\n",
            "\u001b[1m\u001b[31mCannot authenticate through git-credential as no helper is defined on your machine.\n",
            "You might have to re-authenticate when pushing to the Hugging Face Hub.\n",
            "Run the following command in your terminal in case you want to set the 'store' credential helper as default.\n",
            "\n",
            "git config --global credential.helper store\n",
            "\n",
            "Read https://git-scm.com/book/en/v2/Git-Tools-Credential-Storage for more details.\u001b[0m\n",
            "Token has not been saved to git credential helper.\n",
            "Your token has been saved to /root/.cache/huggingface/token\n",
            "Login successful.\n",
            "The current active token is: `token2`\n"
          ]
        }
      ],
      "source": [
        "!huggingface-cli login"
      ]
    },
    {
      "cell_type": "code",
      "execution_count": 6,
      "metadata": {
        "colab": {
          "base_uri": "https://localhost:8080/"
        },
        "id": "1fU7jju7sfiq",
        "outputId": "2e50e125-5bc3-4c1d-f9b0-7aa07b7ab38e"
      },
      "outputs": [
        {
          "output_type": "stream",
          "name": "stdout",
          "text": [
            "\u001b[90mgit version 2.34.1\u001b[0m\n",
            "\u001b[90mgit-lfs/3.0.2 (GitHub; linux amd64; go 1.18.1)\u001b[0m\n",
            "\n",
            "You are about to create \u001b[1mSeonghwan/my-bert-fine-tuned2\u001b[0m\n",
            "Proceed? [Y/n] Y\n",
            "409 Client Error: Conflict for url: https://huggingface.co/api/repos/create (Request ID: Root=1-676ec45e-4decd0c67c95268c3e64925c;2b3ecb5a-2afd-4083-9973-e6f7e4daf94e)\n",
            "\n",
            "You already created this model repo\n",
            "\u001b[1m\u001b[31m{\"error\":\"You already created this model repo\",\"url\":\"https://huggingface.co/Seonghwan/my-bert-fine-tuned2\"}\u001b[0m\n"
          ]
        }
      ],
      "source": [
        "!huggingface-cli repo create {\"<사용자명>/my-bert-fine-tuned2\".split(\"/\")[1]}"
      ]
    },
    {
      "cell_type": "code",
      "execution_count": 8,
      "metadata": {
        "colab": {
          "base_uri": "https://localhost:8080/"
        },
        "id": "aR8zC_cNsh8e",
        "outputId": "04579c06-8008-4364-8a5c-f6083986044e"
      },
      "outputs": [
        {
          "output_type": "stream",
          "name": "stdout",
          "text": [
            "Cloning into 'my-bert-fine-tuned2'...\n",
            "remote: Enumerating objects: 3, done.\u001b[K\n",
            "remote: Total 3 (delta 0), reused 0 (delta 0), pack-reused 3 (from 1)\u001b[K\n",
            "Unpacking objects: 100% (3/3), 1.05 KiB | 1.05 MiB/s, done.\n"
          ]
        }
      ],
      "source": [
        "!git clone https://huggingface.co/{\"<사용자명>/my-bert-fine-tuned2\"}"
      ]
    },
    {
      "cell_type": "code",
      "execution_count": 10,
      "metadata": {
        "colab": {
          "base_uri": "https://localhost:8080/"
        },
        "id": "mRofyBq9Eb6v",
        "outputId": "07bd604f-10ff-49df-ac78-d5c95ac80109"
      },
      "outputs": [
        {
          "output_type": "stream",
          "name": "stdout",
          "text": [
            "[main 55de2f4] Initial commit\n",
            " 7 files changed, 64304 insertions(+)\n",
            " create mode 100644 config.json\n",
            " create mode 100644 model.safetensors\n",
            " create mode 100644 special_tokens_map.json\n",
            " create mode 100644 tokenizer.json\n",
            " create mode 100644 tokenizer_config.json\n",
            " create mode 100644 training_args.bin\n",
            " create mode 100644 vocab.txt\n",
            "Uploading LFS objects: 100% (2/2), 442 MB | 80 MB/s, done.\n",
            "Enumerating objects: 10, done.\n",
            "Counting objects: 100% (10/10), done.\n",
            "Delta compression using up to 2 threads\n",
            "Compressing objects: 100% (9/9), done.\n",
            "Writing objects: 100% (9/9), 351.60 KiB | 5.41 MiB/s, done.\n",
            "Total 9 (delta 0), reused 0 (delta 0), pack-reused 0\n",
            "To https://huggingface.co/Seonghwan/my-bert-fine-tuned2\n",
            "   556d69c..55de2f4  main -> main\n"
          ]
        }
      ],
      "source": [
        "import os\n",
        "\n",
        "!cp -r /content/drive/MyDrive/trained_model/* /content/{\"<사용자명>/my-bert-fine-tuned2\".split('/')[1]}\n",
        "os.chdir('/content/my-bert-fine-tuned2')\n",
        "\n",
        "!git add *\n",
        "!chmod +x .git/hooks/post-commit\n",
        "!chmod +x .git/hooks/pre-push\n",
        "!git commit -m \"Initial commit\"\n",
        "!git push https://user:{\"<토큰값>\"}@huggingface.co/{\"<사용자명>/my-bert-fine-tuned2\"}"
      ]
    },
    {
      "cell_type": "markdown",
      "metadata": {
        "id": "4tKjpd5EcdMU"
      },
      "source": [
        "### 허브 등록 모델 불러오기"
      ]
    },
    {
      "cell_type": "code",
      "execution_count": 12,
      "metadata": {
        "colab": {
          "base_uri": "https://localhost:8080/",
          "height": 209,
          "referenced_widgets": [
            "017b8b98e5544450a108fa47a9c9f23b",
            "5adc2bad7e6b4c4f9c232c5d6cf1f44c",
            "31fbfe1999974c6aa42bd6eb6884b3bb",
            "c18982ea10d6485ba36b8c2205790795",
            "d51314a098e64bb0aad1ba06c6e5ca60",
            "181650c13ea24a1587c3c7addf2663f3",
            "4483e012b6f7415e97a2bf9c0e44f581",
            "c65aa434eb074866a4b465c6633e0c96",
            "347a62597a764a5aae03507e0d95e9bc",
            "e07e37576548400587b607ff51ca22aa",
            "09e0f5df24f0407fb4eaaf386c6e9551",
            "d20d7e8b4d324000b25ecce6521a5602",
            "a8eef39f0e8f44eeaf86d289f13ae1be",
            "39e35a1c488a4c4691d7fd1c900755ad",
            "1a5c0f550bea46b19c427c7fb22f26d4",
            "119a60a866874a38baecb5bbd6db2713",
            "b85e3845fb2b4c75a876429cb0083d39",
            "6eeeccc32cc14ed892c369ed1ec2bb3d",
            "986d4e15996b4090a04a35e227a8879d",
            "1cc582057f6d481a889f9c4cdbcc8dca",
            "a8f28c737b0e4207857912d813f44282",
            "37002278400e4902ba2407296c5c2923",
            "921ff1704c774d6d90e5e1e35e3ffa88",
            "fb2ecfe0de2041d89f523a5b95d772fc",
            "93e41aac2430414fb6c27bfc81669897",
            "1442545be10e464db4b88419452cb1bc",
            "673b4e4961e54963a9c2480657ad1bc9",
            "3d053599163944ca9202ba1957a7ccec",
            "eb1ae085f01648ea8ad05b84cdd41d4f",
            "e2001d15dc2943d3a44203ce236c9f01",
            "e26efc1de1854593b7fb9491227c9c81",
            "e4b7e61eafc9407983877966250fe018",
            "c1ed90db10284bf9a95917f5db481b7d",
            "dc43e0d32b474a9ab8b34b8488e9ecd5",
            "d3f35caff34e4d2882975e3bf535e28c",
            "9a9e6024e5714baa92418a80c8b1525f",
            "aba690e89f884e74b7c68c22a699acda",
            "1a5c540379be4ae3be86ce152f52e27f",
            "53f2d22704c543d5be7e0af11a32bf42",
            "4da85ff36b374d16b73902ea10cd7ed2",
            "057b76ebef674988bfc79aec61e15fda",
            "1b34adbebe0a4a2ab7a92741fa16cbc1",
            "5aeeea08ed5c435a975ed5fa41aaa505",
            "62cc55fd1b764e48a0817a591eb739c8",
            "1f5d1892c8c640228bac156864abdf2c",
            "2c4518ff398d481ab78a777f73f0d01c",
            "a4e8d26ad04e4d0d9d17058a4f373124",
            "dce5eac4eee5434587e44265f90bfbba",
            "b5fdd0c0e83f4eecb30341c987f0da29",
            "78296c96f5144edd8a83cac6707c6461",
            "43ed557a09d44a2bad857c193739ec7b",
            "c09ca28f6f7f48a3b284bfcc8b80a492",
            "a641d67bef624bf99c6a438cad84e57c",
            "bed10411a5654204be0d44e659fa19be",
            "0011312270fe44a5b21119dfb7f319ff",
            "dc9194183d464b388ccbcb6e462b5240",
            "affb869c7ed44f6da4a67c9732b1cde5",
            "f25694a16dfa49668b62eb6c61104344",
            "555cb667ba314330a427d43187e6cee6",
            "4667c3207cb0471a8467a4cc0d541ecb",
            "ce1c3d10caad4c16a00433cd20d43831",
            "72e7c453d319420394d880f71aeb0a03",
            "7ee3e59361764c20938ecd6c07c0b095",
            "1fced0cdefa24cb5b87199540d2791f9",
            "d71939c7eed24c07bc0d5ca132a74144",
            "3cf4204563914ba0a286820a3e364455"
          ]
        },
        "id": "yFmuKXKiccsJ",
        "outputId": "10962693-c18b-4a2a-811a-09bff127af23"
      },
      "outputs": [
        {
          "output_type": "display_data",
          "data": {
            "text/plain": [
              "tokenizer_config.json:   0%|          | 0.00/1.27k [00:00<?, ?B/s]"
            ],
            "application/vnd.jupyter.widget-view+json": {
              "version_major": 2,
              "version_minor": 0,
              "model_id": "017b8b98e5544450a108fa47a9c9f23b"
            }
          },
          "metadata": {}
        },
        {
          "output_type": "display_data",
          "data": {
            "text/plain": [
              "vocab.txt:   0%|          | 0.00/248k [00:00<?, ?B/s]"
            ],
            "application/vnd.jupyter.widget-view+json": {
              "version_major": 2,
              "version_minor": 0,
              "model_id": "d20d7e8b4d324000b25ecce6521a5602"
            }
          },
          "metadata": {}
        },
        {
          "output_type": "display_data",
          "data": {
            "text/plain": [
              "tokenizer.json:   0%|          | 0.00/752k [00:00<?, ?B/s]"
            ],
            "application/vnd.jupyter.widget-view+json": {
              "version_major": 2,
              "version_minor": 0,
              "model_id": "921ff1704c774d6d90e5e1e35e3ffa88"
            }
          },
          "metadata": {}
        },
        {
          "output_type": "display_data",
          "data": {
            "text/plain": [
              "special_tokens_map.json:   0%|          | 0.00/695 [00:00<?, ?B/s]"
            ],
            "application/vnd.jupyter.widget-view+json": {
              "version_major": 2,
              "version_minor": 0,
              "model_id": "dc43e0d32b474a9ab8b34b8488e9ecd5"
            }
          },
          "metadata": {}
        },
        {
          "output_type": "display_data",
          "data": {
            "text/plain": [
              "config.json:   0%|          | 0.00/995 [00:00<?, ?B/s]"
            ],
            "application/vnd.jupyter.widget-view+json": {
              "version_major": 2,
              "version_minor": 0,
              "model_id": "1f5d1892c8c640228bac156864abdf2c"
            }
          },
          "metadata": {}
        },
        {
          "output_type": "display_data",
          "data": {
            "text/plain": [
              "model.safetensors:   0%|          | 0.00/443M [00:00<?, ?B/s]"
            ],
            "application/vnd.jupyter.widget-view+json": {
              "version_major": 2,
              "version_minor": 0,
              "model_id": "dc9194183d464b388ccbcb6e462b5240"
            }
          },
          "metadata": {}
        }
      ],
      "source": [
        "model_name = \"<사용자명>/my-bert-fine-tuned2\"\n",
        "tokenizer = AutoTokenizer.from_pretrained(model_name)\n",
        "model = AutoModelForSequenceClassification.from_pretrained(model_name)"
      ]
    },
    {
      "cell_type": "markdown",
      "metadata": {
        "id": "staoUm4dluLN"
      },
      "source": [
        "# 3.4.3 huggingface-hub"
      ]
    },
    {
      "cell_type": "code",
      "execution_count": 13,
      "metadata": {
        "colab": {
          "base_uri": "https://localhost:8080/"
        },
        "id": "IprXRABQkRk4",
        "outputId": "f778a013-647d-4e82-a0e8-11bc94bb876a"
      },
      "outputs": [
        {
          "output_type": "stream",
          "name": "stdout",
          "text": [
            "huggingface-hub                    0.27.0\n"
          ]
        }
      ],
      "source": [
        "!pip list | grep huggingface-hub"
      ]
    },
    {
      "cell_type": "code",
      "execution_count": 14,
      "metadata": {
        "id": "rgnKsWAdHDz5"
      },
      "outputs": [],
      "source": [
        "from transformers import AutoTokenizer, AutoModelForSequenceClassification\n",
        "\n",
        "model_name = \"/content/drive/MyDrive/trained_model\"\n",
        "tokenizer = AutoTokenizer.from_pretrained(model_name)\n",
        "model = AutoModelForSequenceClassification.from_pretrained(model_name)"
      ]
    },
    {
      "cell_type": "code",
      "execution_count": 15,
      "metadata": {
        "colab": {
          "base_uri": "https://localhost:8080/",
          "height": 17,
          "referenced_widgets": [
            "8b2c01ba8d514109b8a1821a9c975de0",
            "d13db3ce12224ec39f8ef5e9ad1545ac",
            "84a0c7c4be344ab38adcc5acd0950528",
            "8bbd3284096c483aaed66c6ac5d82c45",
            "91adb81e469e48ceac8a34944176286a",
            "e5600b04111f4651951a806f9f4d2730",
            "545399cf4f7a4758854c13a0a7a2968b",
            "ad5dd4638f2d45ac90622ecb0e74e730",
            "d65d5dbe00314e1bbb2edff91d86b0c9",
            "ea755f6cc9ec4cc3811d91517e3dc085",
            "fa52da2726864c4f96136b7f843677da",
            "cdade8ca04214483a036210f71368f0a",
            "fad674cdaaf942d3bcdfabdcc36fe0e9",
            "757455707b874283895183f0c11dc4c5",
            "d4625b47c3604680a961bd762fa3c36b",
            "44ac407ce3d44630a7344f2dd603452f",
            "f88b7a2ac690416391431b79c4b9b030",
            "a1bf27ee95814179b2ce15db7d24db25",
            "c5ef038242e8419889b752a11c8d51bf",
            "2fde2c638a084778870d4f5f7e0d27e6"
          ]
        },
        "id": "U0cdKbjXEiIt",
        "outputId": "8915b2d2-633b-425b-db18-af45270c1422"
      },
      "outputs": [
        {
          "output_type": "display_data",
          "data": {
            "text/plain": [
              "VBox(children=(HTML(value='<center> <img\\nsrc=https://huggingface.co/front/assets/huggingface_logo-noborder.sv…"
            ],
            "application/vnd.jupyter.widget-view+json": {
              "version_major": 2,
              "version_minor": 0,
              "model_id": "8b2c01ba8d514109b8a1821a9c975de0"
            }
          },
          "metadata": {}
        }
      ],
      "source": [
        "from huggingface_hub import notebook_login\n",
        "\n",
        "notebook_login()"
      ]
    },
    {
      "cell_type": "code",
      "execution_count": 23,
      "metadata": {
        "colab": {
          "base_uri": "https://localhost:8080/",
          "height": 34
        },
        "id": "t3Xy_cGJJSEz",
        "outputId": "bddb7e1f-a6fe-4edf-c94c-7bced3167053"
      },
      "outputs": [
        {
          "output_type": "execute_result",
          "data": {
            "text/plain": [
              "RepoUrl('https://huggingface.co/Seonghwan/my-bert-fine-tuned3', endpoint='https://huggingface.co', repo_type='model', repo_id='Seonghwan/my-bert-fine-tuned3')"
            ],
            "application/vnd.google.colaboratory.intrinsic+json": {
              "type": "string"
            }
          },
          "metadata": {},
          "execution_count": 23
        }
      ],
      "source": [
        "from huggingface_hub import create_repo, delete_repo\n",
        "\n",
        "create_repo(\"<사용자명>/my-bert-fine-tuned3\")"
      ]
    },
    {
      "cell_type": "code",
      "execution_count": 21,
      "metadata": {
        "id": "DDWJBp9sKkV4"
      },
      "outputs": [],
      "source": [
        "delete_repo(\"<사용자명>/my-bert-fine-tuned3\")"
      ]
    },
    {
      "cell_type": "code",
      "execution_count": 27,
      "metadata": {
        "colab": {
          "base_uri": "https://localhost:8080/"
        },
        "id": "YTjGBEiBMvtS",
        "outputId": "71b8b182-8a1f-4acd-dc46-63adfc0a9624"
      },
      "outputs": [
        {
          "output_type": "stream",
          "name": "stderr",
          "text": [
            "/usr/local/lib/python3.10/dist-packages/huggingface_hub/utils/_deprecation.py:131: FutureWarning: 'Repository' (from 'huggingface_hub.repository') is deprecated and will be removed from version '1.0'. Please prefer the http-based alternatives instead. Given its large adoption in legacy code, the complete removal is only planned on next major release.\n",
            "For more details, please read https://huggingface.co/docs/huggingface_hub/concepts/git_vs_http.\n",
            "  warnings.warn(warning_message, FutureWarning)\n",
            "/content/my-bert-fine-tuned2/my-bert-fine-tuned-psh3 is already a clone of https://huggingface.co/Seonghwan/my-bert-fine-tuned3. Make sure you pull the latest changes with `repo.git_pull()`.\n",
            "WARNING:huggingface_hub.repository:/content/my-bert-fine-tuned2/my-bert-fine-tuned-psh3 is already a clone of https://huggingface.co/Seonghwan/my-bert-fine-tuned3. Make sure you pull the latest changes with `repo.git_pull()`.\n"
          ]
        }
      ],
      "source": [
        "from huggingface_hub import Repository\n",
        "\n",
        "repo = Repository(\"<사용자명>/my-bert-fine-tuned-psh3\".split(\"/\")[1], clone_from=\"<사용자명>/my-bert-fine-tuned3\")\n",
        "!cp -r /content/drive/MyDrive/trained_model/ /content/{\"<사용자명>/my-bert-fine-tuned3\".split(\"/\")[1]}"
      ]
    },
    {
      "cell_type": "code",
      "execution_count": null,
      "metadata": {
        "id": "RyTgHL9cQ6Ps",
        "collapsed": true
      },
      "outputs": [],
      "source": [
        "repo.git_add()\n",
        "repo.git_commit(\"Initial commit\")\n",
        "repo.git_push()"
      ]
    },
    {
      "cell_type": "code",
      "execution_count": 40,
      "metadata": {
        "colab": {
          "base_uri": "https://localhost:8080/",
          "height": 69
        },
        "id": "eAO6Oyq_aXJy",
        "outputId": "14692db7-a8c6-49d2-8905-90eb9a53b14b"
      },
      "outputs": [
        {
          "output_type": "execute_result",
          "data": {
            "text/plain": [
              "CommitInfo(commit_url='https://huggingface.co/Seonghwan/my-bert-fine-tuned3/commit/f08fdfd94e5b1c92734ccc795f83edf17bbe06a8', commit_message='Upload config.json with huggingface_hub', commit_description='', oid='f08fdfd94e5b1c92734ccc795f83edf17bbe06a8', pr_url=None, repo_url=RepoUrl('https://huggingface.co/Seonghwan/my-bert-fine-tuned3', endpoint='https://huggingface.co', repo_type='model', repo_id='Seonghwan/my-bert-fine-tuned3'), pr_revision=None, pr_num=None)"
            ],
            "application/vnd.google.colaboratory.intrinsic+json": {
              "type": "string"
            }
          },
          "metadata": {},
          "execution_count": 40
        }
      ],
      "source": [
        "from huggingface_hub import upload_file, delete_file\n",
        "\n",
        "upload_file(\n",
        "    path_or_fileobj=f\"/content/{'<사용자명>/my-bert-fine-tuned3'.split('/')[1]}/config.json\",\n",
        "    path_in_repo=\"config.json\",\n",
        "    repo_id=\"<사용자명>/my-bert-fine-tuned3\",\n",
        ")"
      ]
    },
    {
      "cell_type": "code",
      "execution_count": 38,
      "metadata": {
        "colab": {
          "base_uri": "https://localhost:8080/",
          "height": 69
        },
        "id": "Fv2Hg4SaaY3A",
        "outputId": "8a89f285-82a9-4c15-bb60-eae9aeeb4269"
      },
      "outputs": [
        {
          "output_type": "execute_result",
          "data": {
            "text/plain": [
              "CommitInfo(commit_url='https://huggingface.co/Seonghwan/my-bert-fine-tuned3/commit/12e38508c7776d3d07123ccf2523933bd3ba42d4', commit_message='Delete config.json with huggingface_hub', commit_description='', oid='12e38508c7776d3d07123ccf2523933bd3ba42d4', pr_url=None, repo_url=RepoUrl('https://huggingface.co/Seonghwan/my-bert-fine-tuned3', endpoint='https://huggingface.co', repo_type='model', repo_id='Seonghwan/my-bert-fine-tuned3'), pr_revision=None, pr_num=None)"
            ],
            "application/vnd.google.colaboratory.intrinsic+json": {
              "type": "string"
            }
          },
          "metadata": {},
          "execution_count": 38
        }
      ],
      "source": [
        "delete_file(\n",
        "    path_in_repo=\"config.json\",\n",
        "    repo_id=\"<사용자명>/my-bert-fine-tuned3\",\n",
        ")"
      ]
    },
    {
      "cell_type": "markdown",
      "metadata": {
        "id": "s9W6PuuMcyva"
      },
      "source": [
        "### 허브 등록 모델 불러오기"
      ]
    },
    {
      "cell_type": "code",
      "execution_count": null,
      "metadata": {
        "id": "J92jcM1qcyvb"
      },
      "outputs": [],
      "source": [
        "model_name = \"<사용자명>/my-bert-fine-tuned3\"\n",
        "tokenizer = AutoTokenizer.from_pretrained(model_name)\n",
        "model = AutoModelForSequenceClassification.from_pretrained(model_name)"
      ]
    },
    {
      "cell_type": "code",
      "execution_count": null,
      "metadata": {
        "id": "gmzjc3sPeGxL"
      },
      "outputs": [],
      "source": []
    }
  ],
  "metadata": {
    "accelerator": "GPU",
    "colab": {
      "provenance": []
    },
    "kernelspec": {
      "display_name": "Python 3 (ipykernel)",
      "language": "python",
      "name": "python3"
    },
    "language_info": {
      "codemirror_mode": {
        "name": "ipython",
        "version": 3
      },
      "file_extension": ".py",
      "mimetype": "text/x-python",
      "name": "python",
      "nbconvert_exporter": "python",
      "pygments_lexer": "ipython3",
      "version": "3.10.13"
    }
  
  },
  "nbformat": 4,
  "nbformat_minor": 0
}
