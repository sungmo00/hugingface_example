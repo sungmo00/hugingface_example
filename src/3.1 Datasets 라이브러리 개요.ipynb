{
  "cells": [
    {
      "cell_type": "markdown",
      "metadata": {
        "id": "647Bcw6sQgpK"
      },
      "source": [
        "# 3.1.1 Datasets 설치\n"
      ]
    },
    {
      "cell_type": "code",
      "execution_count": 1,
      "metadata": {
        "id": "wba2spjoJEjh",
        "colab": {
          "base_uri": "https://localhost:8080/"
        },
        "outputId": "b487dae7-7ddc-43bd-a357-b542f246cd33"
      },
      "outputs": [
        {
          "output_type": "stream",
          "name": "stdout",
          "text": [
            "Collecting datasets==2.20.0\n",
            "  Downloading datasets-2.20.0-py3-none-any.whl.metadata (19 kB)\n",
            "Requirement already satisfied: filelock in /usr/local/lib/python3.10/dist-packages (from datasets==2.20.0) (3.16.1)\n",
            "Requirement already satisfied: numpy>=1.17 in /usr/local/lib/python3.10/dist-packages (from datasets==2.20.0) (1.26.4)\n",
            "Requirement already satisfied: pyarrow>=15.0.0 in /usr/local/lib/python3.10/dist-packages (from datasets==2.20.0) (16.1.0)\n",
            "Requirement already satisfied: pyarrow-hotfix in /usr/local/lib/python3.10/dist-packages (from datasets==2.20.0) (0.6)\n",
            "Collecting dill<0.3.9,>=0.3.0 (from datasets==2.20.0)\n",
            "  Downloading dill-0.3.8-py3-none-any.whl.metadata (10 kB)\n",
            "Requirement already satisfied: pandas in /usr/local/lib/python3.10/dist-packages (from datasets==2.20.0) (2.2.2)\n",
            "Requirement already satisfied: requests>=2.32.2 in /usr/local/lib/python3.10/dist-packages (from datasets==2.20.0) (2.32.3)\n",
            "Requirement already satisfied: tqdm>=4.66.3 in /usr/local/lib/python3.10/dist-packages (from datasets==2.20.0) (4.66.5)\n",
            "Collecting xxhash (from datasets==2.20.0)\n",
            "  Downloading xxhash-3.5.0-cp310-cp310-manylinux_2_17_x86_64.manylinux2014_x86_64.whl.metadata (12 kB)\n",
            "Collecting multiprocess (from datasets==2.20.0)\n",
            "  Downloading multiprocess-0.70.17-py310-none-any.whl.metadata (7.2 kB)\n",
            "Collecting fsspec<=2024.5.0,>=2023.1.0 (from fsspec[http]<=2024.5.0,>=2023.1.0->datasets==2.20.0)\n",
            "  Downloading fsspec-2024.5.0-py3-none-any.whl.metadata (11 kB)\n",
            "Requirement already satisfied: aiohttp in /usr/local/lib/python3.10/dist-packages (from datasets==2.20.0) (3.10.8)\n",
            "Requirement already satisfied: huggingface-hub>=0.21.2 in /usr/local/lib/python3.10/dist-packages (from datasets==2.20.0) (0.24.7)\n",
            "Requirement already satisfied: packaging in /usr/local/lib/python3.10/dist-packages (from datasets==2.20.0) (24.1)\n",
            "Requirement already satisfied: pyyaml>=5.1 in /usr/local/lib/python3.10/dist-packages (from datasets==2.20.0) (6.0.2)\n",
            "Requirement already satisfied: aiohappyeyeballs>=2.3.0 in /usr/local/lib/python3.10/dist-packages (from aiohttp->datasets==2.20.0) (2.4.3)\n",
            "Requirement already satisfied: aiosignal>=1.1.2 in /usr/local/lib/python3.10/dist-packages (from aiohttp->datasets==2.20.0) (1.3.1)\n",
            "Requirement already satisfied: attrs>=17.3.0 in /usr/local/lib/python3.10/dist-packages (from aiohttp->datasets==2.20.0) (24.2.0)\n",
            "Requirement already satisfied: frozenlist>=1.1.1 in /usr/local/lib/python3.10/dist-packages (from aiohttp->datasets==2.20.0) (1.4.1)\n",
            "Requirement already satisfied: multidict<7.0,>=4.5 in /usr/local/lib/python3.10/dist-packages (from aiohttp->datasets==2.20.0) (6.1.0)\n",
            "Requirement already satisfied: yarl<2.0,>=1.12.0 in /usr/local/lib/python3.10/dist-packages (from aiohttp->datasets==2.20.0) (1.13.1)\n",
            "Requirement already satisfied: async-timeout<5.0,>=4.0 in /usr/local/lib/python3.10/dist-packages (from aiohttp->datasets==2.20.0) (4.0.3)\n",
            "Requirement already satisfied: typing-extensions>=3.7.4.3 in /usr/local/lib/python3.10/dist-packages (from huggingface-hub>=0.21.2->datasets==2.20.0) (4.12.2)\n",
            "Requirement already satisfied: charset-normalizer<4,>=2 in /usr/local/lib/python3.10/dist-packages (from requests>=2.32.2->datasets==2.20.0) (3.3.2)\n",
            "Requirement already satisfied: idna<4,>=2.5 in /usr/local/lib/python3.10/dist-packages (from requests>=2.32.2->datasets==2.20.0) (3.10)\n",
            "Requirement already satisfied: urllib3<3,>=1.21.1 in /usr/local/lib/python3.10/dist-packages (from requests>=2.32.2->datasets==2.20.0) (2.2.3)\n",
            "Requirement already satisfied: certifi>=2017.4.17 in /usr/local/lib/python3.10/dist-packages (from requests>=2.32.2->datasets==2.20.0) (2024.8.30)\n",
            "INFO: pip is looking at multiple versions of multiprocess to determine which version is compatible with other requirements. This could take a while.\n",
            "Collecting multiprocess (from datasets==2.20.0)\n",
            "  Downloading multiprocess-0.70.16-py310-none-any.whl.metadata (7.2 kB)\n",
            "Requirement already satisfied: python-dateutil>=2.8.2 in /usr/local/lib/python3.10/dist-packages (from pandas->datasets==2.20.0) (2.8.2)\n",
            "Requirement already satisfied: pytz>=2020.1 in /usr/local/lib/python3.10/dist-packages (from pandas->datasets==2.20.0) (2024.2)\n",
            "Requirement already satisfied: tzdata>=2022.7 in /usr/local/lib/python3.10/dist-packages (from pandas->datasets==2.20.0) (2024.2)\n",
            "Requirement already satisfied: six>=1.5 in /usr/local/lib/python3.10/dist-packages (from python-dateutil>=2.8.2->pandas->datasets==2.20.0) (1.16.0)\n",
            "Downloading datasets-2.20.0-py3-none-any.whl (547 kB)\n",
            "\u001b[2K   \u001b[90m━━━━━━━━━━━━━━━━━━━━━━━━━━━━━━━━━━━━━━━━\u001b[0m \u001b[32m547.8/547.8 kB\u001b[0m \u001b[31m3.1 MB/s\u001b[0m eta \u001b[36m0:00:00\u001b[0m\n",
            "\u001b[?25hDownloading dill-0.3.8-py3-none-any.whl (116 kB)\n",
            "\u001b[2K   \u001b[90m━━━━━━━━━━━━━━━━━━━━━━━━━━━━━━━━━━━━━━━━\u001b[0m \u001b[32m116.3/116.3 kB\u001b[0m \u001b[31m9.2 MB/s\u001b[0m eta \u001b[36m0:00:00\u001b[0m\n",
            "\u001b[?25hDownloading fsspec-2024.5.0-py3-none-any.whl (316 kB)\n",
            "\u001b[2K   \u001b[90m━━━━━━━━━━━━━━━━━━━━━━━━━━━━━━━━━━━━━━━━\u001b[0m \u001b[32m316.1/316.1 kB\u001b[0m \u001b[31m19.4 MB/s\u001b[0m eta \u001b[36m0:00:00\u001b[0m\n",
            "\u001b[?25hDownloading multiprocess-0.70.16-py310-none-any.whl (134 kB)\n",
            "\u001b[2K   \u001b[90m━━━━━━━━━━━━━━━━━━━━━━━━━━━━━━━━━━━━━━━━\u001b[0m \u001b[32m134.8/134.8 kB\u001b[0m \u001b[31m10.9 MB/s\u001b[0m eta \u001b[36m0:00:00\u001b[0m\n",
            "\u001b[?25hDownloading xxhash-3.5.0-cp310-cp310-manylinux_2_17_x86_64.manylinux2014_x86_64.whl (194 kB)\n",
            "\u001b[2K   \u001b[90m━━━━━━━━━━━━━━━━━━━━━━━━━━━━━━━━━━━━━━━━\u001b[0m \u001b[32m194.1/194.1 kB\u001b[0m \u001b[31m15.4 MB/s\u001b[0m eta \u001b[36m0:00:00\u001b[0m\n",
            "\u001b[?25hInstalling collected packages: xxhash, fsspec, dill, multiprocess, datasets\n",
            "  Attempting uninstall: fsspec\n",
            "    Found existing installation: fsspec 2024.6.1\n",
            "    Uninstalling fsspec-2024.6.1:\n",
            "      Successfully uninstalled fsspec-2024.6.1\n",
            "\u001b[31mERROR: pip's dependency resolver does not currently take into account all the packages that are installed. This behaviour is the source of the following dependency conflicts.\n",
            "gcsfs 2024.6.1 requires fsspec==2024.6.1, but you have fsspec 2024.5.0 which is incompatible.\u001b[0m\u001b[31m\n",
            "\u001b[0mSuccessfully installed datasets-2.20.0 dill-0.3.8 fsspec-2024.5.0 multiprocess-0.70.16 xxhash-3.5.0\n"
          ]
        }
      ],
      "source": [
        "!pip install datasets==2.20.0"
      ]
    },
    {
      "cell_type": "markdown",
      "metadata": {
        "id": "cHOQLjTaNT21"
      },
      "source": [
        "# 3.1.2 Datasets 실습"
      ]
    },
    {
      "cell_type": "markdown",
      "source": [
        "### 데이터셋 다운로드"
      ],
      "metadata": {
        "id": "bcAbPuYgh9JW"
      }
    },
    {
      "cell_type": "code",
      "execution_count": 2,
      "metadata": {
        "id": "X4Qjc-IrNaGw",
        "colab": {
          "base_uri": "https://localhost:8080/",
          "height": 304,
          "referenced_widgets": [
            "4b66daae71794a3e9a444125a64dab07",
            "d09e3ca664ad4512bec7dc443a4fbe21",
            "559772c8c4fc4adaa1da2480bc6f4854",
            "6b117fe657df44a2b05b8ba3ba966d0b",
            "9d159d0fcb1d4548aaf685d1b95b4574",
            "81835b5b3587459db93b90931a1657b0",
            "e73df8347e044860befd0a7f52b63adc",
            "8070b7b427414b25b4160d82092af119",
            "972237328f114c72b5211524ca48a5b4",
            "1905fc3f265e464a9dd31654a590cbf6",
            "593b67ce96a841ff8120a7ab2e0ae67e",
            "f246cf312ee143c7ac9a688bed43c99a",
            "2c99c6459e0d4fbd86112593e8dd5510",
            "f77a4faff99143ccb416f8e5ffcfa82c",
            "6ee90a03bf154de9a2c753de13b8be4d",
            "55d58a111233459daedff4f13ee0a4cd",
            "cb51cf077df34070ae76b4a037aca31c",
            "7b46a53d40fb470abaf2c69dff6a98b0",
            "6a688bd633424783af0a8e7355715152",
            "091819933a39484297bf19b17c7e8e0b",
            "3d3d2816eebb4f01a69fc31fdb9a1b21",
            "2a868c4bd1014adc8af5c7cac074cc0f",
            "7b6286aba8844f5492301ec2b42dc9e4",
            "2596988ea2c84297a3e17e228d157927",
            "d7d15d8eb47d46d58ad042f61f9ff97e",
            "0b82bbd76ad24718be1d9662223a45de",
            "a3d961009ec6448499b8c8808e3ea2ba",
            "44db0c89ea454234ae9bc8ef265a1dc0",
            "a014f073719e43678cb2101d828670f6",
            "4bedf8821935437497cb8282f097e2a5",
            "0d65698b805d4299b518ff1dc751c754",
            "e213e2fc61b14963ab42290d03910974",
            "e5a5b5552f0e4f7982662e027f0b74d0",
            "1f20cdcc07924115b0259cacb7c73038",
            "6d6e054148694a2a98ebfc6e006bcb72",
            "b7ba5f3491ff44f39c5f91ae237c6934",
            "df3367a93e5549f5bb8c7d95e64b0295",
            "0ee6a08f04134a70a8473b261e4d7454",
            "2a6de0c8b32b448f842aeced232cf1de",
            "63e55ab12b5b4e02906a7f9fa19e0b3a",
            "4280f2e0a9074e0488a9e4f520c7736d",
            "5ec31aff62f6436083e1b0da604b7165",
            "9c6c8f61e2cf4289a5426d02f9a16d09",
            "930e444ca6af4a47b1bd8b203afce0d9",
            "741e0dd692e145da8d60600810ed3470",
            "8017b65aeb894c33bca1f4210201abe8",
            "f7aefa4dff8a4cfeab165f9a3eb01149",
            "435735b216214362bb5e329c4d667d1e",
            "b19135d85a0644caa4c2bbb190a6f143",
            "76ab72bb79e341c4a828ea56107177d0",
            "301a2cb9f6bd40d6b6eb9c17f305fd2d",
            "5d6345bc99bf41f9be00f437218b4e22",
            "6346688464c14ef3a5fab6b37f8992f7",
            "999be989b4c949f5bcb819465a0bfd15",
            "e089186235294020a0d9176df31ab214"
          ]
        },
        "outputId": "33a3c6f5-89fe-4c7f-b30a-a096a375731a"
      },
      "outputs": [
        {
          "output_type": "stream",
          "name": "stderr",
          "text": [
            "/usr/local/lib/python3.10/dist-packages/huggingface_hub/utils/_token.py:89: UserWarning: \n",
            "The secret `HF_TOKEN` does not exist in your Colab secrets.\n",
            "To authenticate with the Hugging Face Hub, create a token in your settings tab (https://huggingface.co/settings/tokens), set it as secret in your Google Colab and restart your session.\n",
            "You will be able to reuse this secret in all of your notebooks.\n",
            "Please note that authentication is recommended but still optional to access public models or datasets.\n",
            "  warnings.warn(\n"
          ]
        },
        {
          "output_type": "display_data",
          "data": {
            "text/plain": [
              "Downloading readme:   0%|          | 0.00/22.5k [00:00<?, ?B/s]"
            ],
            "application/vnd.jupyter.widget-view+json": {
              "version_major": 2,
              "version_minor": 0,
              "model_id": "4b66daae71794a3e9a444125a64dab07"
            }
          },
          "metadata": {}
        },
        {
          "output_type": "display_data",
          "data": {
            "text/plain": [
              "Downloading data:   0%|          | 0.00/4.17M [00:00<?, ?B/s]"
            ],
            "application/vnd.jupyter.widget-view+json": {
              "version_major": 2,
              "version_minor": 0,
              "model_id": "f246cf312ee143c7ac9a688bed43c99a"
            }
          },
          "metadata": {}
        },
        {
          "output_type": "display_data",
          "data": {
            "text/plain": [
              "Downloading data:   0%|          | 0.00/847k [00:00<?, ?B/s]"
            ],
            "application/vnd.jupyter.widget-view+json": {
              "version_major": 2,
              "version_minor": 0,
              "model_id": "7b6286aba8844f5492301ec2b42dc9e4"
            }
          },
          "metadata": {}
        },
        {
          "output_type": "display_data",
          "data": {
            "text/plain": [
              "Generating train split:   0%|          | 0/45678 [00:00<?, ? examples/s]"
            ],
            "application/vnd.jupyter.widget-view+json": {
              "version_major": 2,
              "version_minor": 0,
              "model_id": "1f20cdcc07924115b0259cacb7c73038"
            }
          },
          "metadata": {}
        },
        {
          "output_type": "display_data",
          "data": {
            "text/plain": [
              "Generating validation split:   0%|          | 0/9107 [00:00<?, ? examples/s]"
            ],
            "application/vnd.jupyter.widget-view+json": {
              "version_major": 2,
              "version_minor": 0,
              "model_id": "741e0dd692e145da8d60600810ed3470"
            }
          },
          "metadata": {}
        }
      ],
      "source": [
        "from datasets import load_dataset\n",
        "\n",
        "dataset = load_dataset(\"klue\", \"ynat\")"
      ]
    },
    {
      "cell_type": "code",
      "execution_count": 3,
      "metadata": {
        "colab": {
          "base_uri": "https://localhost:8080/"
        },
        "id": "CWJHnNFxXMIi",
        "outputId": "c2e7973b-d049-404e-dab3-8932e9ee8d62"
      },
      "outputs": [
        {
          "output_type": "stream",
          "name": "stdout",
          "text": [
            "DatasetDict({\n",
            "    train: Dataset({\n",
            "        features: ['guid', 'title', 'label', 'url', 'date'],\n",
            "        num_rows: 45678\n",
            "    })\n",
            "    validation: Dataset({\n",
            "        features: ['guid', 'title', 'label', 'url', 'date'],\n",
            "        num_rows: 9107\n",
            "    })\n",
            "})\n",
            "{'date': '2016.06.30. 오전 10:36',\n",
            " 'guid': 'ynat-v1_train_00000',\n",
            " 'label': 3,\n",
            " 'title': '유튜브 내달 2일까지 크리에이터 지원 공간 운영',\n",
            " 'url': 'https://news.naver.com/main/read.nhn?mode=LS2D&mid=shm&sid1=105&sid2=227&oid=001&aid=0008508947'}\n"
          ]
        }
      ],
      "source": [
        "from pprint import pprint\n",
        "\n",
        "pprint(dataset)\n",
        "raw_train_dataset = dataset[\"train\"]\n",
        "pprint(raw_train_dataset[0])"
      ]
    },
    {
      "cell_type": "markdown",
      "source": [
        "### 보유한 데이터 로드"
      ],
      "metadata": {
        "id": "7p4upAHQPFn-"
      }
    },
    {
      "cell_type": "code",
      "source": [
        "from datasets import load_dataset\n",
        "\n",
        "ratio = 80\n",
        "dataset = load_dataset(\n",
        "    path=\"csv\",\n",
        "    data_files=\"/content/sample_data/sample.csv\",\n",
        "    split={\n",
        "        \"train\": f\"train[:{ratio}%]\",\n",
        "        \"test\": f\"train[{ratio}%:]\",\n",
        "    },\n",
        ")\n",
        "dataset"
      ],
      "metadata": {
        "colab": {
          "base_uri": "https://localhost:8080/",
          "height": 228,
          "referenced_widgets": [
            "a15a9cbc846e4306bd5e0c96038f2258",
            "3b1b435af19547738e7308aceca3f551",
            "668c735396e441ca9da6b5b2b5f62fcd",
            "a05018b5e9c44799850f7c1d6f0b953a",
            "8e276b2694eb466db818aad63c5acefc",
            "ef79e958aacd4481b1277cd97ac91ba9",
            "57c92883a1944de2bfa3e65734c6f189",
            "b471d90c181d4c0da040ace48057f29e",
            "982314ea406d49ed9f5061d0dcf4cff1",
            "d674857f2d864b0bba02cbfa02de0319",
            "297cbb4a085c4d77a7793e3c04f84c88"
          ]
        },
        "id": "jE6Jej4dPFDf",
        "outputId": "fbed513f-b6c9-46e1-81cf-9d1e58b32f78"
      },
      "execution_count": 5,
      "outputs": [
        {
          "output_type": "display_data",
          "data": {
            "text/plain": [
              "Generating train split: 0 examples [00:00, ? examples/s]"
            ],
            "application/vnd.jupyter.widget-view+json": {
              "version_major": 2,
              "version_minor": 0,
              "model_id": "a15a9cbc846e4306bd5e0c96038f2258"
            }
          },
          "metadata": {}
        },
        {
          "output_type": "execute_result",
          "data": {
            "text/plain": [
              "DatasetDict({\n",
              "    train: Dataset({\n",
              "        features: ['text', 'label'],\n",
              "        num_rows: 8\n",
              "    })\n",
              "    test: Dataset({\n",
              "        features: ['text', 'label'],\n",
              "        num_rows: 2\n",
              "    })\n",
              "})"
            ]
          },
          "metadata": {},
          "execution_count": 5
        }
      ]
    },
    {
      "cell_type": "code",
      "source": [],
      "metadata": {
        "id": "-1uS2SSbayAv"
      },
      "execution_count": null,
      "outputs": []
    }
  ],
  "metadata": {
    "accelerator": "GPU",
    "colab": {
      "provenance": []
    },
    "kernelspec": {
      "display_name": "Python 3",
      "name": "python3"
    },
    "language_info": {
      "name": "python"
    }
  },
  "nbformat": 4,
  "nbformat_minor": 0
}
